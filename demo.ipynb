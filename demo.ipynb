{
 "cells": [
  {
   "cell_type": "markdown",
   "id": "1ea7f4aa",
   "metadata": {},
   "source": [
    "### Demonstration of the nwr package for Mie theory calculations"
   ]
  },
  {
   "cell_type": "markdown",
   "id": "31629796",
   "metadata": {},
   "source": [
    "As a first example, we study the polarization anisotropy of set of nanowires with different radius at UV wavelengths. The nwr package comes with a database of refractive indices for different materials. Please check these data before doing anything serious with the package, like papers etc. "
   ]
  },
  {
   "cell_type": "code",
   "execution_count": null,
   "id": "321ec6c1",
   "metadata": {},
   "outputs": [],
   "source": [
    "# Standard numeric python packages\n",
    "import numpy as np\n",
    "import matplotlib.pyplot as plt\n",
    "# Import the nanowire class and the analysis class\n",
    "import nwr.nanowire as nw\n",
    "import nwr.analysis as ana"
   ]
  },
  {
   "cell_type": "code",
   "execution_count": null,
   "id": "81dd0929",
   "metadata": {},
   "outputs": [],
   "source": [
    "# First we create a set of nanowires \n",
    "diameters = [10., 25., 50., 100.0, 200.0] # create python list\n",
    "my_nws = [] # create empty list\n",
    "\n",
    "# Use the database of materials for a quick look at InP wires\n",
    "for d in diameters:\n",
    "    my_nws.append(nw.Nanowire(d,material='InP'))\n",
    "\n",
    "# Setup a range of interesting wavelengths\n",
    "nlamb = 691\n",
    "lamb_min,lamb_max = 210,900\n",
    "lin_lamb = np.linspace(lamb_min,lamb_max,num=nlamb,endpoint=True)"
   ]
  },
  {
   "cell_type": "markdown",
   "id": "43c46605",
   "metadata": {},
   "source": [
    "Now we have the nanowires and the interesting wavelengths. To study the absorption extinction coefficient, we need to supply the zeta array and the phi array (in degrees), which are the angles of the incoming radiation with respect to the nanowire axis, and the scattering angle with respect to the plane of the incoming light, respectively. See Fig. 8.3 of Bohren and Huffman for a geometrical guide. \n",
    "In our case, we use perpendicular illumination and thus a single value zeta=90 and phi=180, but it is possible to supply an array. Then we do the calculations as detailed by Bohren and Huffman (2008)."
   ]
  },
  {
   "cell_type": "code",
   "execution_count": null,
   "id": "6e3fa3e9",
   "metadata": {},
   "outputs": [],
   "source": [
    "zeta = 90.0\n",
    "# Create analysis objects for each nanowire\n",
    "my_analysis = []\n",
    "for w in my_nws:\n",
    "    my_analysis.append(ana.Analysis(w,lin_lamb,zeta,phi=180,maxn=10))\n",
    "    # Calculate the a's and b's of Bohren and Huffman eqs (8.29, 8.31), \n",
    "    # the amplitude scattering matrix elements of Bohren and Huffman eq (8.34),\n",
    "    # and the extinction coefficients, Bohren and Huffman eqs (8.36,8.37) (can be done step step by calling\n",
    "    # calc_coeff(), calc_T() and calc_Q() in that particular order.\n",
    "    my_analysis[-1].run_analysis()\n"
   ]
  },
  {
   "cell_type": "markdown",
   "id": "d70b94eb",
   "metadata": {},
   "source": [
    "The info is now contained in objects contained in the analysis class. Let's have a look. The absorption efficiency is defined as the extinction efficiency minus the scattering efficiency, see Bohren & Huffman eqs (8.36,8.37). In the resulting plots below we can see the extreme polarization anisotropy at smaller wavelengths. "
   ]
  },
  {
   "cell_type": "code",
   "execution_count": null,
   "id": "a6bcb226",
   "metadata": {},
   "outputs": [],
   "source": [
    "fig, ax = plt.subplots()\n",
    "\n",
    "# The two polarization directions are included in the calculated Q's\n",
    "pol = ['para', 'perp']\n",
    "style = ['-','--']\n",
    "for case in range(0,2) :\n",
    "    for k, a in enumerate(my_analysis):\n",
    "        # Q is 3D array and structured like wavelength, zeta, and case (0 is paralell, 1 is perpendicular)\n",
    "        ax.plot(lin_lamb,a.Qext[:,0,case]-a.Qsca[:,0,case],style[case],label=f'R={diameters[k]/2:.0f} {pol[case]}')\n",
    "    \n",
    "ax.set_xlabel('Wavelength (nm)')\n",
    "ax.set_ylabel('Absorption efficiency')\n",
    "ax.set_xlim(200,500)\n",
    "plt.legend()\n",
    "plt.show()\n",
    "\n",
    "# Create also a plot with the ratio of absorption, abs(90)/abs(0)\n",
    "fig, ax = plt.subplots()\n",
    "\n",
    "for k, a in enumerate(my_analysis):\n",
    "    # Q is 3D array and structured like wavelength, zeta, and case (0 is paralell, 1 is perpendicular)\n",
    "    ax.plot(lin_lamb,(a.Qext[:,0,1]-a.Qsca[:,0,1])/(a.Qext[:,0,0]-a.Qsca[:,0,0]),label=f'R={diameters[k]/2:.0f} perp/para')\n",
    "    \n",
    "ax.plot(lin_lamb,np.ones_like(lin_lamb),'k--')\n",
    "ax.set_xlabel('Wavelength (nm)')\n",
    "ax.set_ylabel('Absorption efficiency ratio')\n",
    "ax.set_xlim(200,500)\n",
    "plt.legend()\n",
    "plt.show()"
   ]
  },
  {
   "cell_type": "markdown",
   "id": "d6907fe6",
   "metadata": {},
   "source": [
    "Let's say that we are searching for a resonance in our wavelength range. Then it might be instructive to look at the a,b coefficients of Bohren and Huffman eqs. (8.29-8.31) separately. This is done in the following snippet for the n and p case, where p is parallel and n is non-paralell (perpendicular) polarization, respectively. The results for the case R=50 nm are plotted."
   ]
  },
  {
   "cell_type": "code",
   "execution_count": null,
   "id": "dd583b9c",
   "metadata": {},
   "outputs": [],
   "source": [
    "# We plot orders 0:3\n",
    "f, axarr= plt.subplots(4,4)#, sharex='col',sharey='row')\n",
    "ncols, nrows = 4,4\n",
    "\n",
    "# choose zeta (only one zeta in current analysis)\n",
    "zeta_idx = 0\n",
    "\n",
    "# labels\n",
    "label={0:'anp - T3',1:'ann - T2',2:'bnp - T1',3:'bnn - T4'}\n",
    "\n",
    "my_ana = my_analysis[3] # diameter of 100 nm, radius 50 nm\n",
    "\n",
    "for m in np.arange(0,nrows) :\n",
    "    for n in np.arange(0,ncols) :\n",
    "        axarr[m,n].plot(lin_lamb,abs(my_ana.coeff[:,zeta_idx,m,n]),'k--')\n",
    "        axarr[m,n].plot(lin_lamb,my_ana.coeff[:,zeta_idx,m,n].real,'b-')\n",
    "        axarr[m,n].plot(lin_lamb,my_ana.coeff[:,zeta_idx,m,n].imag,'r-')\n",
    "        axarr[m,n].set_xlim(lamb_min,lamb_max)\n",
    "        \n",
    "for n in np.arange(0,ncols) :\n",
    "    axarr[ncols-1,n].set_xlabel('wavelength [nm]')\n",
    "    axarr[0,n].set_title(label[n])\n",
    "    axarr[n,0].set_ylabel('Order {0:d}'.format(n))\n",
    "\n",
    "figure = plt.gcf() # get current figure\n",
    "figure.set_size_inches(19, 10)"
   ]
  },
  {
   "cell_type": "markdown",
   "id": "0c66548b",
   "metadata": {},
   "source": [
    "In the plot above for R=50 nm it seems like something interesting is happening at 500 nn wavelength. It possible using another module \"modes\" to show the modes inside a nanowire for different wavelengths. It is important to know that what is plotted are the real quantities of feilds that are in general complex.\n",
    "What we see is that there are spiraling modes of both electronic and magnetic character at this particular wavelength."
   ]
  },
  {
   "cell_type": "code",
   "execution_count": null,
   "id": "dadf5277",
   "metadata": {
    "lines_to_next_cell": 2
   },
   "outputs": [],
   "source": [
    "import nwr.modes as modes\n",
    "# Takes input: nanowire object, zeta(rad), wavel(nm), order(int)\n",
    "# As one of the options, specify rho_fac relative to R for plot extent\n",
    "modes.print_mode(my_nws[3],np.pi/2,500,1,rho_fac=1.5)"
   ]
  },
  {
   "cell_type": "code",
   "execution_count": null,
   "id": "b45ad049",
   "metadata": {},
   "outputs": [],
   "source": []
  }
 ],
 "metadata": {
  "jupytext": {
   "formats": "ipynb,py:percent"
  },
  "kernelspec": {
   "display_name": "Python 3",
   "language": "python",
   "name": "python3"
  },
  "language_info": {
   "codemirror_mode": {
    "name": "ipython",
    "version": 3
   },
   "file_extension": ".py",
   "mimetype": "text/x-python",
   "name": "python",
   "nbconvert_exporter": "python",
   "pygments_lexer": "ipython3",
   "version": "3.9.7"
  }
 },
 "nbformat": 4,
 "nbformat_minor": 5
}
